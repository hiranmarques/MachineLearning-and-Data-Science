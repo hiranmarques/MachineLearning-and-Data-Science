{
 "cells": [
  {
   "cell_type": "code",
   "execution_count": 1,
   "metadata": {},
   "outputs": [
    {
     "name": "stdout",
     "output_type": "stream",
     "text": [
      "Defaulting to user installation because normal site-packages is not writeable\n",
      "Collecting mlxtend\n",
      "  Downloading mlxtend-0.23.1-py3-none-any.whl.metadata (7.3 kB)\n",
      "Requirement already satisfied: scipy>=1.2.1 in c:\\users\\hiran\\appdata\\local\\packages\\pythonsoftwarefoundation.python.3.12_qbz5n2kfra8p0\\localcache\\local-packages\\python312\\site-packages (from mlxtend) (1.13.0)\n",
      "Requirement already satisfied: numpy>=1.16.2 in c:\\users\\hiran\\appdata\\local\\packages\\pythonsoftwarefoundation.python.3.12_qbz5n2kfra8p0\\localcache\\local-packages\\python312\\site-packages (from mlxtend) (1.26.4)\n",
      "Requirement already satisfied: pandas>=0.24.2 in c:\\users\\hiran\\appdata\\local\\packages\\pythonsoftwarefoundation.python.3.12_qbz5n2kfra8p0\\localcache\\local-packages\\python312\\site-packages (from mlxtend) (2.2.1)\n",
      "Requirement already satisfied: scikit-learn>=1.0.2 in c:\\users\\hiran\\appdata\\local\\packages\\pythonsoftwarefoundation.python.3.12_qbz5n2kfra8p0\\localcache\\local-packages\\python312\\site-packages (from mlxtend) (1.4.2)\n",
      "Requirement already satisfied: matplotlib>=3.0.0 in c:\\users\\hiran\\appdata\\local\\packages\\pythonsoftwarefoundation.python.3.12_qbz5n2kfra8p0\\localcache\\local-packages\\python312\\site-packages (from mlxtend) (3.8.3)\n",
      "Requirement already satisfied: joblib>=0.13.2 in c:\\users\\hiran\\appdata\\local\\packages\\pythonsoftwarefoundation.python.3.12_qbz5n2kfra8p0\\localcache\\local-packages\\python312\\site-packages (from mlxtend) (1.4.2)\n",
      "Requirement already satisfied: contourpy>=1.0.1 in c:\\users\\hiran\\appdata\\local\\packages\\pythonsoftwarefoundation.python.3.12_qbz5n2kfra8p0\\localcache\\local-packages\\python312\\site-packages (from matplotlib>=3.0.0->mlxtend) (1.2.0)\n",
      "Requirement already satisfied: cycler>=0.10 in c:\\users\\hiran\\appdata\\local\\packages\\pythonsoftwarefoundation.python.3.12_qbz5n2kfra8p0\\localcache\\local-packages\\python312\\site-packages (from matplotlib>=3.0.0->mlxtend) (0.12.1)\n",
      "Requirement already satisfied: fonttools>=4.22.0 in c:\\users\\hiran\\appdata\\local\\packages\\pythonsoftwarefoundation.python.3.12_qbz5n2kfra8p0\\localcache\\local-packages\\python312\\site-packages (from matplotlib>=3.0.0->mlxtend) (4.49.0)\n",
      "Requirement already satisfied: kiwisolver>=1.3.1 in c:\\users\\hiran\\appdata\\local\\packages\\pythonsoftwarefoundation.python.3.12_qbz5n2kfra8p0\\localcache\\local-packages\\python312\\site-packages (from matplotlib>=3.0.0->mlxtend) (1.4.5)\n",
      "Requirement already satisfied: packaging>=20.0 in c:\\users\\hiran\\appdata\\local\\packages\\pythonsoftwarefoundation.python.3.12_qbz5n2kfra8p0\\localcache\\local-packages\\python312\\site-packages (from matplotlib>=3.0.0->mlxtend) (23.2)\n",
      "Requirement already satisfied: pillow>=8 in c:\\users\\hiran\\appdata\\local\\packages\\pythonsoftwarefoundation.python.3.12_qbz5n2kfra8p0\\localcache\\local-packages\\python312\\site-packages (from matplotlib>=3.0.0->mlxtend) (10.2.0)\n",
      "Requirement already satisfied: pyparsing>=2.3.1 in c:\\users\\hiran\\appdata\\local\\packages\\pythonsoftwarefoundation.python.3.12_qbz5n2kfra8p0\\localcache\\local-packages\\python312\\site-packages (from matplotlib>=3.0.0->mlxtend) (3.1.2)\n",
      "Requirement already satisfied: python-dateutil>=2.7 in c:\\users\\hiran\\appdata\\local\\packages\\pythonsoftwarefoundation.python.3.12_qbz5n2kfra8p0\\localcache\\local-packages\\python312\\site-packages (from matplotlib>=3.0.0->mlxtend) (2.9.0.post0)\n",
      "Requirement already satisfied: pytz>=2020.1 in c:\\users\\hiran\\appdata\\local\\packages\\pythonsoftwarefoundation.python.3.12_qbz5n2kfra8p0\\localcache\\local-packages\\python312\\site-packages (from pandas>=0.24.2->mlxtend) (2024.1)\n",
      "Requirement already satisfied: tzdata>=2022.7 in c:\\users\\hiran\\appdata\\local\\packages\\pythonsoftwarefoundation.python.3.12_qbz5n2kfra8p0\\localcache\\local-packages\\python312\\site-packages (from pandas>=0.24.2->mlxtend) (2024.1)\n",
      "Requirement already satisfied: threadpoolctl>=2.0.0 in c:\\users\\hiran\\appdata\\local\\packages\\pythonsoftwarefoundation.python.3.12_qbz5n2kfra8p0\\localcache\\local-packages\\python312\\site-packages (from scikit-learn>=1.0.2->mlxtend) (3.5.0)\n",
      "Requirement already satisfied: six>=1.5 in c:\\users\\hiran\\appdata\\local\\packages\\pythonsoftwarefoundation.python.3.12_qbz5n2kfra8p0\\localcache\\local-packages\\python312\\site-packages (from python-dateutil>=2.7->matplotlib>=3.0.0->mlxtend) (1.16.0)\n",
      "Downloading mlxtend-0.23.1-py3-none-any.whl (1.4 MB)\n",
      "   ---------------------------------------- 0.0/1.4 MB ? eta -:--:--\n",
      "    --------------------------------------- 0.0/1.4 MB 660.6 kB/s eta 0:00:03\n",
      "   ---------- ----------------------------- 0.4/1.4 MB 4.9 MB/s eta 0:00:01\n",
      "   -------------------------- ------------- 1.0/1.4 MB 7.7 MB/s eta 0:00:01\n",
      "   ---------------------------------------- 1.4/1.4 MB 9.2 MB/s eta 0:00:00\n",
      "Installing collected packages: mlxtend\n",
      "Successfully installed mlxtend-0.23.1\n",
      "Note: you may need to restart the kernel to use updated packages.\n"
     ]
    }
   ],
   "source": [
    "pip install mlxtend"
   ]
  },
  {
   "cell_type": "code",
   "execution_count": 4,
   "metadata": {},
   "outputs": [
    {
     "name": "stdout",
     "output_type": "stream",
     "text": [
      "                         antecedents                       consequents  \\\n",
      "0                  (spirit_servings)                   (beer_servings)   \n",
      "1                    (beer_servings)                 (spirit_servings)   \n",
      "2                    (wine_servings)                   (beer_servings)   \n",
      "3                    (beer_servings)                   (wine_servings)   \n",
      "4                    (wine_servings)                 (spirit_servings)   \n",
      "5                  (spirit_servings)                   (wine_servings)   \n",
      "6   (wine_servings, spirit_servings)                   (beer_servings)   \n",
      "7     (wine_servings, beer_servings)                 (spirit_servings)   \n",
      "8   (spirit_servings, beer_servings)                   (wine_servings)   \n",
      "9                    (wine_servings)  (spirit_servings, beer_servings)   \n",
      "10                 (spirit_servings)    (wine_servings, beer_servings)   \n",
      "11                   (beer_servings)  (wine_servings, spirit_servings)   \n",
      "\n",
      "    antecedent support  consequent support   support  confidence      lift  \\\n",
      "0             0.512953            0.590674  0.445596    0.868687  1.470672   \n",
      "1             0.590674            0.512953  0.445596    0.754386  1.470672   \n",
      "2             0.284974            0.590674  0.274611    0.963636  1.631419   \n",
      "3             0.590674            0.284974  0.274611    0.464912  1.631419   \n",
      "4             0.284974            0.512953  0.243523    0.854545  1.665932   \n",
      "5             0.512953            0.284974  0.243523    0.474747  1.665932   \n",
      "6             0.243523            0.590674  0.233161    0.957447  1.620941   \n",
      "7             0.274611            0.512953  0.233161    0.849057  1.655232   \n",
      "8             0.445596            0.284974  0.233161    0.523256  1.836152   \n",
      "9             0.284974            0.445596  0.233161    0.818182  1.836152   \n",
      "10            0.512953            0.274611  0.233161    0.454545  1.655232   \n",
      "11            0.590674            0.243523  0.233161    0.394737  1.620941   \n",
      "\n",
      "    leverage  conviction  zhangs_metric  \n",
      "0   0.142608    3.117178       0.657100  \n",
      "1   0.142608    1.982976       0.781866  \n",
      "2   0.106285   11.256477       0.541291  \n",
      "3   0.106285    1.336278       0.945546  \n",
      "4   0.097345    3.348446       0.559050  \n",
      "5   0.097345    1.361299       0.820733  \n",
      "6   0.089318    9.619171       0.506393  \n",
      "7   0.092298    3.226684       0.545714  \n",
      "8   0.106177    1.499810       0.821391  \n",
      "9   0.106177    3.049223       0.636876  \n",
      "10  0.092298    1.329879       0.812766  \n",
      "11  0.089318    1.249831       0.935865  \n"
     ]
    },
    {
     "name": "stderr",
     "output_type": "stream",
     "text": [
      "C:\\Users\\hiran\\AppData\\Local\\Packages\\PythonSoftwareFoundation.Python.3.12_qbz5n2kfra8p0\\LocalCache\\local-packages\\Python312\\site-packages\\mlxtend\\frequent_patterns\\fpcommon.py:109: DeprecationWarning: DataFrames with non-bool types result in worse computationalperformance and their support might be discontinued in the future.Please use a DataFrame with bool type\n",
      "  warnings.warn(\n"
     ]
    }
   ],
   "source": [
    "import pandas as pd\n",
    "from mlxtend.frequent_patterns import apriori, association_rules\n",
    "\n",
    "# Carregar dados\n",
    "data = pd.read_csv('drinks.csv', sep=',')\n",
    "\n",
    "# Definir limiares para binarizar os dados (ajuste os limiares conforme necessário)\n",
    "thresholds = {\n",
    "    'beer_servings': 50,\n",
    "    'spirit_servings': 50,\n",
    "    'wine_servings': 50\n",
    "}\n",
    "\n",
    "# Binarizar os dados\n",
    "for column, threshold in thresholds.items():\n",
    "    data[column] = (data[column] > threshold).astype(int)\n",
    "\n",
    "# Aplicar o algoritmo Apriori para encontrar conjuntos de itens frequentes\n",
    "frequent_itemsets = apriori(data[['beer_servings', 'spirit_servings', 'wine_servings']], min_support=0.05, use_colnames=True)\n",
    "\n",
    "# Gerar regras de associação a partir dos conjuntos de itens frequentes\n",
    "rules = association_rules(frequent_itemsets, metric=\"lift\", min_threshold=1)\n",
    "\n",
    "# Exibir as regras geradas\n",
    "print(rules)\n",
    "\n"
   ]
  }
 ],
 "metadata": {
  "kernelspec": {
   "display_name": "Python 3",
   "language": "python",
   "name": "python3"
  },
  "language_info": {
   "codemirror_mode": {
    "name": "ipython",
    "version": 3
   },
   "file_extension": ".py",
   "mimetype": "text/x-python",
   "name": "python",
   "nbconvert_exporter": "python",
   "pygments_lexer": "ipython3",
   "version": "3.12.3"
  }
 },
 "nbformat": 4,
 "nbformat_minor": 2
}
